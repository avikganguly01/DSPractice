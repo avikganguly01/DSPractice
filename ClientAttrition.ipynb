{
 "cells": [
  {
   "cell_type": "code",
   "execution_count": null,
   "metadata": {
    "collapsed": false
   },
   "outputs": [],
   "source": [
    "import pandas as pd\n",
    "\n",
    "clientFrame = (pd.read_csv('clientData.csv', error_bad_lines=False, index_col='ucic',\n",
    "                           dtype={\"category\": object, \"subCaste\": object}))\n",
    "cycleCountFrame = pd.read_csv('LoanCycleWithUCIC.csv', error_bad_lines=False, index_col='ucic')\n",
    "\n",
    "merged = pd.merge(clientFrame, cycleCountFrame, how='outer')\n",
    "merged.where(merged['borrower_cycle_count']>5)\n",
    "\n",
    "print(\"HI\")\n",
    "print(merged.head())\n"
   ]
  },
  {
   "cell_type": "code",
   "execution_count": null,
   "metadata": {
    "collapsed": true
   },
   "outputs": [],
   "source": []
  },
  {
   "cell_type": "code",
   "execution_count": null,
   "metadata": {
    "collapsed": true
   },
   "outputs": [],
   "source": []
  }
 ],
 "metadata": {
  "kernelspec": {
   "display_name": "Python 3",
   "language": "python",
   "name": "python3"
  },
  "language_info": {
   "codemirror_mode": {
    "name": "ipython",
    "version": 3
   },
   "file_extension": ".py",
   "mimetype": "text/x-python",
   "name": "python",
   "nbconvert_exporter": "python",
   "pygments_lexer": "ipython3",
   "version": "3.6.0"
  }
 },
 "nbformat": 4,
 "nbformat_minor": 2
}
